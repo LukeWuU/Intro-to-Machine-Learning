{
 "cells": [
  {
   "cell_type": "code",
   "execution_count": 1,
   "id": "1acca015",
   "metadata": {},
   "outputs": [
    {
     "name": "stdout",
     "output_type": "stream",
     "text": [
      "Set 1 Accuracy: 0.9041487839771102\n",
      "Set 2 Accuracy: 0.34334763948497854\n",
      "Set 1 has the better trained model.\n"
     ]
    }
   ],
   "source": [
    "import numpy as np\n",
    "\n",
    "# Define ReLU activation function\n",
    "def relu(x):\n",
    "    return np.maximum(0, x)\n",
    "\n",
    "# Define Softmax activation function\n",
    "def softmax(x):\n",
    "    exp_x = np.exp(x)\n",
    "    return exp_x / np.sum(exp_x)\n",
    "\n",
    "# Function to evaluate the model with given weights\n",
    "def evaluate_model(weights_hidden, weights_output, test_data, test_labels):\n",
    "    correct_predictions = 0\n",
    "    # Iterate through each test data point\n",
    "    for i, data_point in enumerate(test_data):\n",
    "        x1, x2 = data_point\n",
    "\n",
    "        # Calculate input signals to the hidden layer (J1, J2)\n",
    "        J1 = weights_hidden[0] * x1 + weights_hidden[1] * x2\n",
    "        J2 = weights_hidden[2] * x1 + weights_hidden[3] * x2\n",
    "        \n",
    "        # Apply ReLU activation function to the hidden layer outputs (H1, H2)\n",
    "        H1 = relu(J1)\n",
    "        H2 = relu(J2)\n",
    "\n",
    "        # Calculate input signals to the output layer (I1, I2)\n",
    "        I1 = weights_output[0] * H1 + weights_output[1] * H2\n",
    "        I2 = weights_output[2] * H1 + weights_output[3] * H2\n",
    "\n",
    "        # Apply Softmax to get the probabilities of class 0 and class 1\n",
    "        y1, y2 = softmax([I1, I2])\n",
    "\n",
    "        # Predict the class based on the higher probability\n",
    "        predicted_class = np.argmax([y1, y2])\n",
    "\n",
    "        # Check if the prediction is correct by comparing it with the true label\n",
    "        if predicted_class == test_labels[i]:\n",
    "            correct_predictions += 1\n",
    "\n",
    "    # Calculate accuracy as the ratio of correct predictions to total data points\n",
    "    accuracy = correct_predictions / len(test_labels)\n",
    "    return accuracy\n",
    "\n",
    "# Load the test data and test labels\n",
    "test_data = np.loadtxt('testdata.txt', delimiter=',')  # Test data\n",
    "test_labels = np.loadtxt('test_class.txt')  # Test labels\n",
    "\n",
    "# Define two sets of weights: hidden and output layer weights separately\n",
    "weights_hidden_set1 = [1.3438, -0.6225, 0.3509, -1.7072]  # Hidden layer weights for set 1\n",
    "weights_output_set1 = [-1.1398, 0.3944, 1.3882, -0.8676]  # Output layer weights for set 1\n",
    "\n",
    "weights_hidden_set2 = [0.8061, 0.2354, -0.4092, -0.8999]  # Hidden layer weights for set 2\n",
    "weights_output_set2 = [-0.5538, -0.1916, 0.0288, 0.4918]  # Output layer weights for set 2\n",
    "\n",
    "# Evaluate the accuracy of the model using the first set of weights\n",
    "accuracy_set1 = evaluate_model(weights_hidden_set1, weights_output_set1, test_data, test_labels)\n",
    "\n",
    "# Evaluate the accuracy of the model using the second set of weights\n",
    "accuracy_set2 = evaluate_model(weights_hidden_set2, weights_output_set2, test_data, test_labels)\n",
    "\n",
    "# Print the accuracy results for both weight sets\n",
    "print(f\"Set 1 Accuracy: {accuracy_set1}\")\n",
    "print(f\"Set 2 Accuracy: {accuracy_set2}\")\n",
    "\n",
    "# Compare which set of weights is better\n",
    "if accuracy_set1 > accuracy_set2:\n",
    "    print(\"Set 1 has the better trained model.\")\n",
    "else:\n",
    "    print(\"Set 2 has the better trained model.\")"
   ]
  },
  {
   "cell_type": "code",
   "execution_count": null,
   "id": "96f26121",
   "metadata": {},
   "outputs": [],
   "source": []
  }
 ],
 "metadata": {
  "kernelspec": {
   "display_name": "Python 3 (ipykernel)",
   "language": "python",
   "name": "python3"
  },
  "language_info": {
   "codemirror_mode": {
    "name": "ipython",
    "version": 3
   },
   "file_extension": ".py",
   "mimetype": "text/x-python",
   "name": "python",
   "nbconvert_exporter": "python",
   "pygments_lexer": "ipython3",
   "version": "3.9.12"
  }
 },
 "nbformat": 4,
 "nbformat_minor": 5
}
