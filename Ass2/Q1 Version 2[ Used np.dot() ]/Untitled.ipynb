{
 "cells": [
  {
   "cell_type": "code",
   "execution_count": 1,
   "id": "0f9e095a",
   "metadata": {},
   "outputs": [
    {
     "name": "stdout",
     "output_type": "stream",
     "text": [
      "Accuracy of Set 1: 0.9456366237482118\n",
      "Accuracy of Set 2: 0.32331902718168815\n",
      "Set 1 represents a better trained model.\n"
     ]
    }
   ],
   "source": [
    "import numpy as np\n",
    "\n",
    "# Define ReLU activation function\n",
    "def relu(x):\n",
    "    return np.maximum(0, x)\n",
    "\n",
    "# Define Softmax activation function\n",
    "def softmax(x):\n",
    "    exp_x = np.exp(x)\n",
    "    return exp_x / np.sum(exp_x)\n",
    "\n",
    "# Define neural network structure for forward pass\n",
    "def neural_network(data, weights_hidden, weights_output):\n",
    "    # Compute hidden layer input\n",
    "    hidden_layer_input = np.dot(data, weights_hidden)\n",
    "    # Apply ReLU activation to hidden layer output\n",
    "    hidden_layer_output = relu(hidden_layer_input)\n",
    "\n",
    "    # Compute output layer input\n",
    "    output_layer_input = np.dot(hidden_layer_output, weights_output)\n",
    "    # Apply Softmax activation to output layer\n",
    "    output_layer_output = softmax(output_layer_input)\n",
    "\n",
    "    return output_layer_output\n",
    "\n",
    "# Define two sets of weights (adjusted to directly use arrays)\n",
    "weights_hidden_set1 = np.array([[1.3438, -0.6225], [0.3509, -1.7072]])\n",
    "weights_output_set1 = np.array([[-1.1398, 0.3944], [1.3882, -0.8676]])\n",
    "\n",
    "weights_hidden_set2 = np.array([[0.8061, 0.2354], [-0.4092, -0.8999]])\n",
    "weights_output_set2 = np.array([[-0.5538, -0.1916], [0.0288, 0.4918]])\n",
    "\n",
    "# Load the test data and test labels\n",
    "test_data = np.loadtxt('testdata.txt', delimiter=',')\n",
    "test_labels = np.loadtxt('test_class.txt')\n",
    "\n",
    "# Process each data point individually to comply with the assignment requirements\n",
    "output_set1 = np.array([neural_network(test_data[i], weights_hidden_set1, weights_output_set1) for i in range(len(test_data))])\n",
    "output_set2 = np.array([neural_network(test_data[i], weights_hidden_set2, weights_output_set2) for i in range(len(test_data))])\n",
    "\n",
    "# Calculate accuracy by comparing predicted class (argmax of output) with true labels\n",
    "accuracy_set1 = np.mean(np.argmax(output_set1, axis=1) == test_labels)\n",
    "accuracy_set2 = np.mean(np.argmax(output_set2, axis=1) == test_labels)\n",
    "\n",
    "# Print the accuracy results for both weight sets\n",
    "print(f\"Accuracy of Set 1: {accuracy_set1}\")\n",
    "print(f\"Accuracy of Set 2: {accuracy_set2}\")\n",
    "\n",
    "# Determine which set of weights performs better\n",
    "if accuracy_set1 > accuracy_set2:\n",
    "    print(\"Set 1 represents a better trained model.\")\n",
    "else:\n",
    "    print(\"Set 2 represents a better trained model.\")"
   ]
  },
  {
   "cell_type": "code",
   "execution_count": null,
   "id": "7f323250",
   "metadata": {},
   "outputs": [],
   "source": []
  }
 ],
 "metadata": {
  "kernelspec": {
   "display_name": "Python 3 (ipykernel)",
   "language": "python",
   "name": "python3"
  },
  "language_info": {
   "codemirror_mode": {
    "name": "ipython",
    "version": 3
   },
   "file_extension": ".py",
   "mimetype": "text/x-python",
   "name": "python",
   "nbconvert_exporter": "python",
   "pygments_lexer": "ipython3",
   "version": "3.9.12"
  }
 },
 "nbformat": 4,
 "nbformat_minor": 5
}
