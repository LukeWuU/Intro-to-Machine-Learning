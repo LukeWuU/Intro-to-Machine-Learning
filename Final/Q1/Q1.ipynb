{
 "cells": [
  {
   "cell_type": "code",
   "execution_count": 2,
   "id": "9be2f8bf",
   "metadata": {},
   "outputs": [
    {
     "name": "stdout",
     "output_type": "stream",
     "text": [
      "Predictions: [1 1 0 0 0 1 1 0 1 1 0 1 0 0 0 0 1 0 0 0 0 0 0 0 1 1 1 1 0 0 0 0 0 1 1 1 1\n",
      " 1 0 0]\n",
      "Accuracy on test set: 97.50%\n"
     ]
    }
   ],
   "source": [
    "import numpy as np\n",
    "import pandas as pd\n",
    "from sklearn.metrics.pairwise import rbf_kernel\n",
    "from sklearn.metrics import accuracy_score\n",
    "\n",
    "# Load the SVM model and test data from CSV files\n",
    "svm_model = pd.read_csv(\"SVM_model3.csv\")  # Replace with the correct file path\n",
    "sv3_test_data = pd.read_csv(\"SV3_test_data.csv\")  # Replace with the correct file path\n",
    "\n",
    "# SVM bias (b0)\n",
    "b0 = 0.0462\n",
    "\n",
    "# SVM prediction function\n",
    "def svm_predict(svm_model, test_data, b0, gamma=1.0):\n",
    "    # Extract support vectors and dual coefficients (alpha * y)\n",
    "    support_vectors = svm_model[[\"x1\", \"x2\"]].values\n",
    "    alpha_class = svm_model[\"alpha\"].values\n",
    "\n",
    "    # Extract test data features\n",
    "    test_features = test_data[[\"x1\", \"x2\"]].values\n",
    "\n",
    "    # Compute the RBF kernel (Gaussian kernel)\n",
    "    rbf_matrix = rbf_kernel(test_features, support_vectors, gamma=gamma)\n",
    "\n",
    "    # Calculate decision scores\n",
    "    decision_scores = np.dot(rbf_matrix, alpha_class) + b0\n",
    "\n",
    "    # Predict classes based on the decision score (>0 -> class 1, <=0 -> class 0)\n",
    "    predictions = (decision_scores > 0).astype(int)\n",
    "\n",
    "    return predictions\n",
    "\n",
    "# Predict the classes for test data\n",
    "predictions = svm_predict(svm_model, sv3_test_data, b0)\n",
    "\n",
    "# Compute accuracy\n",
    "accuracy = accuracy_score(sv3_test_data[\"class\"], predictions)\n",
    "\n",
    "# Output predictions and accuracy\n",
    "print(f\"Predictions: {predictions}\")\n",
    "print(f\"Accuracy on test set: {accuracy:.2%}\")"
   ]
  }
 ],
 "metadata": {
  "kernelspec": {
   "display_name": "Python 3 (ipykernel)",
   "language": "python",
   "name": "python3"
  },
  "language_info": {
   "codemirror_mode": {
    "name": "ipython",
    "version": 3
   },
   "file_extension": ".py",
   "mimetype": "text/x-python",
   "name": "python",
   "nbconvert_exporter": "python",
   "pygments_lexer": "ipython3",
   "version": "3.9.12"
  }
 },
 "nbformat": 4,
 "nbformat_minor": 5
}
